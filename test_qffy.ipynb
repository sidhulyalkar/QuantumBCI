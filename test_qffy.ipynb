{
 "cells": [
  {
   "cell_type": "code",
   "execution_count": 1,
   "metadata": {},
   "outputs": [
    {
     "ename": "ImportError",
     "evalue": "cannot import name 'classical_fft' from 'qfft_module' (/Users/sidhulyalkar/Documents/Projects/QuantumBCI/qfft_module.py)",
     "output_type": "error",
     "traceback": [
      "\u001b[0;31m---------------------------------------------------------------------------\u001b[0m",
      "\u001b[0;31mImportError\u001b[0m                               Traceback (most recent call last)",
      "Cell \u001b[0;32mIn[1], line 8\u001b[0m\n\u001b[1;32m      6\u001b[0m importlib\u001b[38;5;241m.\u001b[39mreload(qfft_module)\n\u001b[1;32m      7\u001b[0m \u001b[38;5;66;03m# Import from qfft module\u001b[39;00m\n\u001b[0;32m----> 8\u001b[0m \u001b[38;5;28;01mfrom\u001b[39;00m\u001b[38;5;250m \u001b[39m\u001b[38;5;21;01mqfft_module\u001b[39;00m\u001b[38;5;250m \u001b[39m\u001b[38;5;28;01mimport\u001b[39;00m classical_fft, generate_qft_circuit\n\u001b[1;32m      9\u001b[0m \u001b[38;5;28;01mimport\u001b[39;00m\u001b[38;5;250m \u001b[39m\u001b[38;5;21;01mnumpy\u001b[39;00m\u001b[38;5;250m \u001b[39m\u001b[38;5;28;01mas\u001b[39;00m\u001b[38;5;250m \u001b[39m\u001b[38;5;21;01mnp\u001b[39;00m\n\u001b[1;32m     10\u001b[0m \u001b[38;5;28;01mimport\u001b[39;00m\u001b[38;5;250m \u001b[39m\u001b[38;5;21;01mmatplotlib\u001b[39;00m\u001b[38;5;21;01m.\u001b[39;00m\u001b[38;5;21;01mpyplot\u001b[39;00m\u001b[38;5;250m \u001b[39m\u001b[38;5;28;01mas\u001b[39;00m\u001b[38;5;250m \u001b[39m\u001b[38;5;21;01mplt\u001b[39;00m\n",
      "\u001b[0;31mImportError\u001b[0m: cannot import name 'classical_fft' from 'qfft_module' (/Users/sidhulyalkar/Documents/Projects/QuantumBCI/qfft_module.py)"
     ]
    }
   ],
   "source": [
    "import sys\n",
    "sys.path.append('/Users/sidhulyalkar/Documents/Projects/QuantumBCI') \n",
    "\n",
    "import importlib\n",
    "import qfft_module\n",
    "importlib.reload(qfft_module)\n",
    "# Import from qfft module\n",
    "from qfft_module import classical_fft, generate_qft_circuit\n",
    "import numpy as np\n",
    "import matplotlib.pyplot as plt\n",
    "\n",
    "# Generate QFT Circuit\n",
    "n_qubits = 4\n",
    "qft_circuit = generate_qft_circuit(n_qubits)\n",
    "qft_circuit.draw('mpl')\n",
    "\n",
    "# Simulated EEG-like data (sine wave)\n",
    "signal = np.sin(2 * np.pi * np.linspace(0, 1, 16)) \n",
    "\n",
    "# Apply Classical FFT and Plot\n",
    "plt.figure(figsize=(8,4))\n",
    "plt.plot(classical_fft(signal), label=\"Classical FFT\")\n",
    "plt.xlabel(\"Frequency\")\n",
    "plt.ylabel(\"Amplitude\")\n",
    "plt.title(\"Comparison of FFT and QFT\")\n",
    "plt.legend()\n",
    "plt.show()"
   ]
  },
  {
   "cell_type": "code",
   "execution_count": null,
   "metadata": {},
   "outputs": [],
   "source": []
  },
  {
   "cell_type": "code",
   "execution_count": null,
   "metadata": {},
   "outputs": [],
   "source": []
  }
 ],
 "metadata": {
  "kernelspec": {
   "display_name": "qBCI",
   "language": "python",
   "name": "python3"
  },
  "language_info": {
   "codemirror_mode": {
    "name": "ipython",
    "version": 3
   },
   "file_extension": ".py",
   "mimetype": "text/x-python",
   "name": "python",
   "nbconvert_exporter": "python",
   "pygments_lexer": "ipython3",
   "version": "3.9.21"
  }
 },
 "nbformat": 4,
 "nbformat_minor": 2
}
